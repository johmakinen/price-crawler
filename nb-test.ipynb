{
 "cells": [
  {
   "cell_type": "code",
   "execution_count": 2,
   "metadata": {},
   "outputs": [],
   "source": [
    "%load_ext autoreload\n",
    "%autoreload 2"
   ]
  },
  {
   "cell_type": "code",
   "execution_count": 3,
   "metadata": {},
   "outputs": [],
   "source": [
    "import numpy as np\n",
    "import pandas as pd\n"
   ]
  },
  {
   "cell_type": "code",
   "execution_count": 4,
   "metadata": {},
   "outputs": [],
   "source": [
    "# Function to extract data from a single page\n",
    "def extract_data(page_source):\n",
    "    soup = BeautifulSoup(page_source, 'html.parser')\n",
    "    listings = soup.find_all('div', class_='flexslider-custom-on-card')\n",
    "    motorbikes = []\n",
    "\n",
    "    for listing in listings:\n",
    "        try:\n",
    "            price = listing.find('div', class_='list-card__info_price__main').text.strip()\n",
    "            year = listing.find('ul', class_='list-card__info_details__vinfo').find_all('li')[0].text.strip()\n",
    "            kilometers = listing.find('ul', class_='list-card__info_details__vinfo').find_all('li')[1].text.strip()\n",
    "            \n",
    "            motorbike = {\n",
    "                'price': price,\n",
    "                'year': year,\n",
    "                'kilometers': kilometers\n",
    "            }\n",
    "            motorbikes.append(motorbike)\n",
    "        except AttributeError:\n",
    "            continue\n",
    "\n",
    "    return motorbikes"
   ]
  },
  {
   "cell_type": "code",
   "execution_count": 5,
   "metadata": {},
   "outputs": [
    {
     "name": "stdout",
     "output_type": "stream",
     "text": [
      "Page 2 done\n",
      "Message: element click intercepted: Element <a href=\"https://www.nettimoto.com/yamaha/mt-07?yearFrom=2020&amp;page=2\" class=\"pageNavigation pagination__next\" data-pageno=\"2\">...</a> is not clickable at point (846, 973). Other element would receive the click: <div class=\"global-loader-img-big\" style=\"display: block;\"></div>\n",
      "  (Session info: chrome=126.0.6478.127)\n",
      "Stacktrace:\n",
      "0   chromedriver                        0x000000010451ea80 chromedriver + 4385408\n",
      "1   chromedriver                        0x000000010451738c chromedriver + 4354956\n",
      "2   chromedriver                        0x0000000104134b0c chromedriver + 281356\n",
      "3   chromedriver                        0x000000010417cce0 chromedriver + 576736\n",
      "4   chromedriver                        0x000000010417b284 chromedriver + 569988\n",
      "5   chromedriver                        0x0000000104179414 chromedriver + 562196\n",
      "6   chromedriver                        0x00000001041785b0 chromedriver + 558512\n",
      "7   chromedriver                        0x000000010416dcfc chromedriver + 515324\n",
      "8   chromedriver                        0x000000010416d734 chromedriver + 513844\n",
      "9   chromedriver                        0x00000001041afd24 chromedriver + 785700\n",
      "10  chromedriver                        0x000000010416beec chromedriver + 507628\n",
      "11  chromedriver                        0x000000010416c8c4 chromedriver + 510148\n",
      "12  chromedriver                        0x00000001044e643c chromedriver + 4154428\n",
      "13  chromedriver                        0x00000001044eaea0 chromedriver + 4173472\n",
      "14  chromedriver                        0x00000001044cbff8 chromedriver + 4046840\n",
      "15  chromedriver                        0x00000001044eb78c chromedriver + 4175756\n",
      "16  chromedriver                        0x00000001044befb8 chromedriver + 3993528\n",
      "17  chromedriver                        0x000000010450921c chromedriver + 4297244\n",
      "18  chromedriver                        0x0000000104509398 chromedriver + 4297624\n",
      "19  chromedriver                        0x0000000104516f84 chromedriver + 4353924\n",
      "20  libsystem_pthread.dylib             0x000000018c27af94 _pthread_start + 136\n",
      "21  libsystem_pthread.dylib             0x000000018c275d34 thread_start + 8\n",
      "\n"
     ]
    }
   ],
   "source": [
    "from selenium import webdriver\n",
    "from selenium.webdriver.common.by import By\n",
    "from selenium.webdriver.common.action_chains import ActionChains\n",
    "from bs4 import BeautifulSoup\n",
    "import time\n",
    "\n",
    "# Initialize the WebDriver (Make sure you have the correct path to your WebDriver executable)\n",
    "driver = webdriver.Chrome()\n",
    "\n",
    "# Open the initial webpage\n",
    "url = \"https://www.nettimoto.com/yamaha/mt-07?yearFrom=2020\"\n",
    "\n",
    "driver.get(url)\n",
    "time.sleep(5)\n",
    "\n",
    "# Accept the cookies\n",
    "accept_cookies_button = driver.find_element(By.ID, value=\"almacmp-modalConfirmBtn\")\n",
    "accept_cookies_button.click()\n",
    "time.sleep(2)\n",
    "\n",
    "\n",
    "all_motorbikes = []\n",
    "\n",
    "# Extract data from the first page\n",
    "all_motorbikes.extend(extract_data(driver.page_source))\n",
    "\n",
    "# Loop through the pagination\n",
    "i = 2\n",
    "while True:\n",
    "    try:\n",
    "        # Find and click the \"Next\" button\n",
    "        next_button = driver.find_element(\n",
    "            By.XPATH, value=\"//*[@class='pageNavigation pagination__next']\"\n",
    "        )\n",
    "\n",
    "        # Dynamic ads are loaded when you scroll down, so we need to scroll down a few times\n",
    "        time.sleep(1)\n",
    "        ActionChains(driver).scroll_to_element(next_button).perform()\n",
    "        time.sleep(1)\n",
    "        ActionChains(driver).scroll_to_element(next_button).perform()\n",
    "        time.sleep(1)\n",
    "        ActionChains(driver).scroll_to_element(next_button).perform()\n",
    "        time.sleep(5)\n",
    "        next_button.click()\n",
    "        time.sleep(5)\n",
    "\n",
    "        # try:\n",
    "        #     element = driver.find_element(By.ID,'hideAdFromSearchResultBlock')\n",
    "        #     driver.execute_script(\"\"\"\n",
    "        #     var element = arguments[0];\n",
    "        #     element.parentNode.removeChild(element);\n",
    "        #     \"\"\", element)\n",
    "        #     element = driver.find_element(By.CSS_SELECTOR,'global-loader-img-big')\n",
    "        #     driver.execute_script(\"\"\"\n",
    "        #     var element = arguments[0];\n",
    "        #     element.parentNode.removeChild(element);\n",
    "        #     \"\"\", element)\n",
    "        # except:\n",
    "        #     pass\n",
    "\n",
    "        # TODO:\n",
    "        # Set minimum price to max of motorbikes list\n",
    "        # search again\n",
    "        # extract data\n",
    "        # if no data break\n",
    "        # if data append to list\n",
    "        # repeat\n",
    "\n",
    "        # Extract data from the new page\n",
    "        all_motorbikes.extend(extract_data(driver.page_source))\n",
    "        print(f\"Page {i} done\")\n",
    "        i += 1\n",
    "        # time.sleep(20)\n",
    "    except Exception as e:\n",
    "        # Break the loop if there's no next button or any other issue occurs\n",
    "        print(e)\n",
    "        break\n",
    "\n",
    "# Close the WebDriver\n",
    "driver.quit()\n",
    "\n",
    "# # Print the extracted data\n",
    "# for motorbike in all_motorbikes:\n",
    "#     print(f\"Price: {motorbike['price']}, Year: {motorbike['year']}, Kilometers: {motorbike['kilometers']}\")"
   ]
  },
  {
   "cell_type": "code",
   "execution_count": 6,
   "metadata": {},
   "outputs": [],
   "source": [
    "driver.quit()"
   ]
  },
  {
   "cell_type": "code",
   "execution_count": 8,
   "metadata": {},
   "outputs": [
    {
     "data": {
      "text/plain": [
       "[{'price': '7 900 €', 'year': '2020', 'kilometers': '16 tkm'},\n",
       " {'price': '7 990 €', 'year': '2020', 'kilometers': '10 tkm'},\n",
       " {'price': '7 990 €', 'year': '2020', 'kilometers': '9 tkm'},\n",
       " {'price': '8 000 €', 'year': '2022', 'kilometers': '2 tkm'},\n",
       " {'price': '8 100 €', 'year': '2022', 'kilometers': '4 tkm'},\n",
       " {'price': '8 200 €', 'year': '2021', 'kilometers': '16 tkm'},\n",
       " {'price': '8 250 €', 'year': '2023', 'kilometers': '6 tkm'},\n",
       " {'price': '8 390 €', 'year': '2022', 'kilometers': '7 tkm'},\n",
       " {'price': '8 400 €', 'year': '2020', 'kilometers': '14 tkm'},\n",
       " {'price': '8 450 €', 'year': '2022', 'kilometers': '4 tkm'},\n",
       " {'price': '8 490 €', 'year': '2020', 'kilometers': '9 tkm'},\n",
       " {'price': '8 500 €', 'year': '2021', 'kilometers': '1 tkm'},\n",
       " {'price': '8 500 €', 'year': '2022', 'kilometers': '10 tkm'},\n",
       " {'price': '8 680 €', 'year': '2022', 'kilometers': '1 tkm'},\n",
       " {'price': '8 700 €', 'year': '2023', 'kilometers': '6 tkm'},\n",
       " {'price': '8 800 €', 'year': '2021', 'kilometers': '15 tkm'},\n",
       " {'price': '8 890 €', 'year': '2020', 'kilometers': '12 tkm'},\n",
       " {'price': '8 900 €', 'year': '2023', 'kilometers': '5 tkm'},\n",
       " {'price': '8 900 €', 'year': '2022', 'kilometers': '604 km'},\n",
       " {'price': '8 980 €', 'year': '2021', 'kilometers': '19 tkm'},\n",
       " {'price': '9 000 €', 'year': '2021', 'kilometers': '18 tkm'},\n",
       " {'price': '9 150 €', 'year': '2023', 'kilometers': '6 tkm'},\n",
       " {'price': '9 350 €', 'year': '2023', 'kilometers': '2 tkm'},\n",
       " {'price': '9 380 €', 'year': '2023', 'kilometers': '1 tkm'},\n",
       " {'price': '9 400 €', 'year': '2022', 'kilometers': '7 tkm'},\n",
       " {'price': '9 490 €', 'year': '2022', 'kilometers': '12 tkm'},\n",
       " {'price': '9 490 €', 'year': '2022', 'kilometers': '9 tkm'},\n",
       " {'price': '9 600 €', 'year': '2023', 'kilometers': '450 km'},\n",
       " {'price': '9 650 €', 'year': '2023', 'kilometers': '3 tkm'},\n",
       " {'price': '9 920 €', 'year': '2024', 'kilometers': '300 km'}]"
      ]
     },
     "execution_count": 8,
     "metadata": {},
     "output_type": "execute_result"
    }
   ],
   "source": [
    "all_motorbikes"
   ]
  }
 ],
 "metadata": {
  "kernelspec": {
   "display_name": "env-ensembles",
   "language": "python",
   "name": "python3"
  },
  "language_info": {
   "codemirror_mode": {
    "name": "ipython",
    "version": 3
   },
   "file_extension": ".py",
   "mimetype": "text/x-python",
   "name": "python",
   "nbconvert_exporter": "python",
   "pygments_lexer": "ipython3",
   "version": "3.12.2"
  }
 },
 "nbformat": 4,
 "nbformat_minor": 2
}
